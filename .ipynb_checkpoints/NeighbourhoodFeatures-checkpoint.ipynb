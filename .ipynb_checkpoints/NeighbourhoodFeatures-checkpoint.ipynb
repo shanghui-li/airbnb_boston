{
 "cells": [
  {
   "cell_type": "code",
   "execution_count": 3,
   "metadata": {},
   "outputs": [],
   "source": [
    "import numpy as np\n",
    "import pandas as pd \n",
    "import seaborn as sns\n",
    "import matplotlib.pyplot as plt\n",
    "%matplotlib inline\n",
    "from wordcloud import WordCloud, STOPWORDS"
   ]
  },
  {
   "cell_type": "markdown",
   "metadata": {},
   "source": [
    "Read data on Airbnb property listings in Boston (source: https://www.kaggle.com/airbnb/boston)"
   ]
  },
  {
   "cell_type": "code",
   "execution_count": 9,
   "metadata": {},
   "outputs": [
    {
     "name": "stdout",
     "output_type": "stream",
     "text": [
      "(3585, 95)\n"
     ]
    },
    {
     "data": {
      "text/html": [
       "<div>\n",
       "<style scoped>\n",
       "    .dataframe tbody tr th:only-of-type {\n",
       "        vertical-align: middle;\n",
       "    }\n",
       "\n",
       "    .dataframe tbody tr th {\n",
       "        vertical-align: top;\n",
       "    }\n",
       "\n",
       "    .dataframe thead th {\n",
       "        text-align: right;\n",
       "    }\n",
       "</style>\n",
       "<table border=\"1\" class=\"dataframe\">\n",
       "  <thead>\n",
       "    <tr style=\"text-align: right;\">\n",
       "      <th></th>\n",
       "      <th>id</th>\n",
       "      <th>name</th>\n",
       "      <th>neighborhood_overview</th>\n",
       "    </tr>\n",
       "  </thead>\n",
       "  <tbody>\n",
       "    <tr>\n",
       "      <th>0</th>\n",
       "      <td>12147973</td>\n",
       "      <td>Sunny Bungalow in the City</td>\n",
       "      <td>Roslindale is quiet, convenient and friendly. ...</td>\n",
       "    </tr>\n",
       "    <tr>\n",
       "      <th>1</th>\n",
       "      <td>3075044</td>\n",
       "      <td>Charming room in pet friendly apt</td>\n",
       "      <td>The room is in Roslindale, a diverse and prima...</td>\n",
       "    </tr>\n",
       "    <tr>\n",
       "      <th>2</th>\n",
       "      <td>6976</td>\n",
       "      <td>Mexican Folk Art Haven in Boston</td>\n",
       "      <td>The LOCATION: Roslindale is a safe and diverse...</td>\n",
       "    </tr>\n",
       "    <tr>\n",
       "      <th>3</th>\n",
       "      <td>1436513</td>\n",
       "      <td>Spacious Sunny Bedroom Suite in Historic Home</td>\n",
       "      <td>Roslindale is a lovely little neighborhood loc...</td>\n",
       "    </tr>\n",
       "    <tr>\n",
       "      <th>4</th>\n",
       "      <td>7651065</td>\n",
       "      <td>Come Home to Boston</td>\n",
       "      <td>I love the proximity to downtown, the neighbor...</td>\n",
       "    </tr>\n",
       "  </tbody>\n",
       "</table>\n",
       "</div>"
      ],
      "text/plain": [
       "         id                                           name  \\\n",
       "0  12147973                     Sunny Bungalow in the City   \n",
       "1   3075044              Charming room in pet friendly apt   \n",
       "2      6976               Mexican Folk Art Haven in Boston   \n",
       "3   1436513  Spacious Sunny Bedroom Suite in Historic Home   \n",
       "4   7651065                            Come Home to Boston   \n",
       "\n",
       "                               neighborhood_overview  \n",
       "0  Roslindale is quiet, convenient and friendly. ...  \n",
       "1  The room is in Roslindale, a diverse and prima...  \n",
       "2  The LOCATION: Roslindale is a safe and diverse...  \n",
       "3  Roslindale is a lovely little neighborhood loc...  \n",
       "4  I love the proximity to downtown, the neighbor...  "
      ]
     },
     "execution_count": 9,
     "metadata": {},
     "output_type": "execute_result"
    }
   ],
   "source": [
    "listings = pd.read_csv(\"listings.csv\")\n",
    "print(listings.shape)\n",
    "listings[['id','name','neighborhood_overview']].head() # each row is a unique listing"
   ]
  },
  {
   "cell_type": "markdown",
   "metadata": {},
   "source": [
    "## What are the characteristics of each neighbourhood through the hosts' eyes?\n",
    "\n",
    "Each listing may contain the host's description of the neighbourhood his property is located in. We try to get a sense of each neighbourhood's features through the hosts' eyes by finding the most common words used in the descriptions of the homes in that neighbourhood.m\n"
   ]
  },
  {
   "cell_type": "code",
   "execution_count": 12,
   "metadata": {},
   "outputs": [
    {
     "data": {
      "text/html": [
       "<div>\n",
       "<style scoped>\n",
       "    .dataframe tbody tr th:only-of-type {\n",
       "        vertical-align: middle;\n",
       "    }\n",
       "\n",
       "    .dataframe tbody tr th {\n",
       "        vertical-align: top;\n",
       "    }\n",
       "\n",
       "    .dataframe thead th {\n",
       "        text-align: right;\n",
       "    }\n",
       "</style>\n",
       "<table border=\"1\" class=\"dataframe\">\n",
       "  <thead>\n",
       "    <tr style=\"text-align: right;\">\n",
       "      <th></th>\n",
       "      <th>neighbourhood</th>\n",
       "      <th>des_all</th>\n",
       "      <th>des_cnt</th>\n",
       "    </tr>\n",
       "  </thead>\n",
       "  <tbody>\n",
       "    <tr>\n",
       "      <th>0</th>\n",
       "      <td>Allston-Brighton</td>\n",
       "      <td>Just steps away from the Charles River and eas...</td>\n",
       "      <td>212</td>\n",
       "    </tr>\n",
       "    <tr>\n",
       "      <th>1</th>\n",
       "      <td>Back Bay</td>\n",
       "      <td>- 1 block away from Loews Regency Hotel - 5 mi...</td>\n",
       "      <td>172</td>\n",
       "    </tr>\n",
       "    <tr>\n",
       "      <th>2</th>\n",
       "      <td>Beacon Hill</td>\n",
       "      <td>Beacon Hill is a historic neighborhood of Bost...</td>\n",
       "      <td>117</td>\n",
       "    </tr>\n",
       "    <tr>\n",
       "      <th>3</th>\n",
       "      <td>Brookline</td>\n",
       "      <td>Washington Square is an upscale neighborhood i...</td>\n",
       "      <td>4</td>\n",
       "    </tr>\n",
       "    <tr>\n",
       "      <th>4</th>\n",
       "      <td>Cambridge</td>\n",
       "      <td>Very nice and safe neighborhood. walking safe ...</td>\n",
       "      <td>4</td>\n",
       "    </tr>\n",
       "  </tbody>\n",
       "</table>\n",
       "</div>"
      ],
      "text/plain": [
       "      neighbourhood                                            des_all  \\\n",
       "0  Allston-Brighton  Just steps away from the Charles River and eas...   \n",
       "1          Back Bay  - 1 block away from Loews Regency Hotel - 5 mi...   \n",
       "2       Beacon Hill  Beacon Hill is a historic neighborhood of Bost...   \n",
       "3         Brookline  Washington Square is an upscale neighborhood i...   \n",
       "4         Cambridge  Very nice and safe neighborhood. walking safe ...   \n",
       "\n",
       "   des_cnt  \n",
       "0      212  \n",
       "1      172  \n",
       "2      117  \n",
       "3        4  \n",
       "4        4  "
      ]
     },
     "execution_count": 12,
     "metadata": {},
     "output_type": "execute_result"
    }
   ],
   "source": [
    "nb_des = listings.copy()[['neighbourhood','neighborhood_overview']]\n",
    "nb_des = nb_des[~listings.neighbourhood.isnull() & ~nb_des.neighborhood_overview.isnull()]\n",
    "# for each neighbourhood, count the no. of non-null entries of neighbourhood_overview and combine them into a single string\n",
    "nb_des_cnt = nb_des.groupby('neighbourhood').count()\n",
    "nb_des_join = nb_des.groupby('neighbourhood')['neighborhood_overview'].apply(';'.join)\n",
    "nb_des2 = pd.concat([nb_des_join, nb_des_cnt], axis=1).reset_index()\n",
    "nb_des2.columns = ['neighbourhood','des_all','des_cnt']\n",
    "nb_des2.head()"
   ]
  },
  {
   "cell_type": "code",
   "execution_count": null,
   "metadata": {},
   "outputs": [],
   "source": [
    "nb_des2"
   ]
  }
 ],
 "metadata": {
  "kernelspec": {
   "display_name": "Python 3",
   "language": "python",
   "name": "python3"
  },
  "language_info": {
   "codemirror_mode": {
    "name": "ipython",
    "version": 3
   },
   "file_extension": ".py",
   "mimetype": "text/x-python",
   "name": "python",
   "nbconvert_exporter": "python",
   "pygments_lexer": "ipython3",
   "version": "3.8.5"
  }
 },
 "nbformat": 4,
 "nbformat_minor": 4
}
